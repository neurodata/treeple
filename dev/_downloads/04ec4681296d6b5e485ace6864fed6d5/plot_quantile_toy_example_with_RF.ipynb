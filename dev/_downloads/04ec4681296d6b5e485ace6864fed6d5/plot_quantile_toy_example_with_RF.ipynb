{
  "cells": [
    {
      "cell_type": "markdown",
      "metadata": {},
      "source": [
        "\n# Quantile prediction with Random Forest Regressor class\n\nAn example that demonstrates how to use the Random Forest to generate\nquantile predictions such as conditional median and prediction intervals.\nThe example compares the predictions to a ground truth function used\nto generate noisy samples.\n\nThis example was heavily inspired by [quantile-forest](https://github.com/zillow/quantile-forest)\npackage. See their package [here](https://zillow.github.io/quantile-forest/).\n"
      ]
    },
    {
      "cell_type": "code",
      "execution_count": null,
      "metadata": {
        "collapsed": false
      },
      "outputs": [],
      "source": [
        "from collections import defaultdict\n\nimport matplotlib.pyplot as plt\nimport numpy as np\nfrom sklearn.ensemble import RandomForestRegressor\nfrom sklearn.model_selection import train_test_split"
      ]
    },
    {
      "cell_type": "markdown",
      "metadata": {},
      "source": [
        "Generate the data\n\n"
      ]
    },
    {
      "cell_type": "code",
      "execution_count": null,
      "metadata": {
        "collapsed": false
      },
      "outputs": [],
      "source": [
        "def make_toy_dataset(n_samples, seed=0):\n    rng = np.random.RandomState(seed)\n\n    x = rng.uniform(0, 10, size=n_samples)\n    f = x * np.sin(x)\n\n    sigma = 0.25 + x / 10\n    noise = rng.lognormal(sigma=sigma) - np.exp(sigma**2 / 2)\n    y = f + noise\n\n    return np.atleast_2d(x).T, y\n\n\nn_samples = 1000\nX, y = make_toy_dataset(n_samples)\n\nX_train, X_test, y_train, y_test = train_test_split(X, y, random_state=0)\n\nxx = np.atleast_2d(np.linspace(0, 10, n_samples)).T"
      ]
    },
    {
      "cell_type": "markdown",
      "metadata": {},
      "source": [
        "## Fit the model to the training samples\n\n"
      ]
    },
    {
      "cell_type": "code",
      "execution_count": null,
      "metadata": {
        "collapsed": false
      },
      "outputs": [],
      "source": [
        "rf = RandomForestRegressor(max_depth=3, random_state=0)\nrf.fit(X_train, y_train)\n\ny_pred = rf.predict(xx)\n\n# get the leaf nodes that each sample fell into\nleaf_ids = rf.apply(X_train)\n# create a list of dictionary that maps node to samples that fell into it\n# for each tree\nnode_to_indices = []\nfor tree in range(leaf_ids.shape[1]):\n    d = defaultdict(list)\n    for id, leaf in enumerate(leaf_ids[:, tree]):\n        d[leaf].append(id)\n    node_to_indices.append(d)\n# drop the X_test to the trained tree and\n# get the indices of leaf nodes that fall into it\nleaf_ids_test = rf.apply(xx)\n# for each samples, collect the indices of the samples that fell into\n# the same leaf node for each tree\ny_pred_quatile = []\nfor sample in range(leaf_ids_test.shape[0]):\n    li = [\n        node_to_indices[tree][leaf_ids_test[sample][tree]] for tree in range(leaf_ids_test.shape[1])\n    ]\n    # merge the list of indices into one\n    idx = [item for sublist in li for item in sublist]\n    # get the y_train for each corresponding id\n    y_pred_quatile.append(y_train[idx])\n# get the quatile preditions for each predicted sample\ny_pred_low = [np.quantile(y_pred_quatile[i], 0.025) for i in range(len(y_pred_quatile))]\ny_pred_med = [np.quantile(y_pred_quatile[i], 0.5) for i in range(len(y_pred_quatile))]\ny_pred_upp = [np.quantile(y_pred_quatile[i], 0.975) for i in range(len(y_pred_quatile))]"
      ]
    },
    {
      "cell_type": "markdown",
      "metadata": {},
      "source": [
        "## Plot the results\nPlot the conditional median and prediction intervals.\nThe blue line is the predicted median and the shaded area indicates the 95% confidence interval\nof the prediction. The dots are the training data and the black line indicates the function that\nis used to generated those samples.\n\n"
      ]
    },
    {
      "cell_type": "code",
      "execution_count": null,
      "metadata": {
        "collapsed": false
      },
      "outputs": [],
      "source": [
        "plt.plot(X_test, y_test, \".\", c=\"#f2a619\", label=\"Test Observations\", ms=5)\nplt.plot(xx, (xx * np.sin(xx)), c=\"black\", label=\"$f(x) = x\\,\\sin(x)$\", lw=2)\nplt.plot(xx, y_pred_med, c=\"#006aff\", label=\"Predicted Median\", lw=3, ms=5)\nplt.fill_between(\n    xx.ravel(),\n    y_pred_low,\n    y_pred_upp,\n    color=\"#e0f2ff\",\n    label=\"Predicted 95% Interval\",\n)\nplt.xlabel(\"$x$\")\nplt.ylabel(\"$f(x)$\")\nplt.legend(loc=\"upper left\")\nplt.show()"
      ]
    }
  ],
  "metadata": {
    "kernelspec": {
      "display_name": "Python 3",
      "language": "python",
      "name": "python3"
    },
    "language_info": {
      "codemirror_mode": {
        "name": "ipython",
        "version": 3
      },
      "file_extension": ".py",
      "mimetype": "text/x-python",
      "name": "python",
      "nbconvert_exporter": "python",
      "pygments_lexer": "ipython3",
      "version": "3.9.20"
    }
  },
  "nbformat": 4,
  "nbformat_minor": 0
}