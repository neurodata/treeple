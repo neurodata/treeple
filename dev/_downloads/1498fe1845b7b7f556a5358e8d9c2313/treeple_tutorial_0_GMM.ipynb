{
  "cells": [
    {
      "cell_type": "markdown",
      "metadata": {},
      "source": [
        "\n# Estimating true posteriors & statistics\n"
      ]
    },
    {
      "cell_type": "code",
      "execution_count": null,
      "metadata": {
        "collapsed": false
      },
      "outputs": [],
      "source": [
        "import warnings\n\nimport matplotlib.pyplot as plt\nimport numpy as np\nimport seaborn as sns\nfrom scipy.stats import entropy, multivariate_normal\nfrom sklearn.metrics import roc_auc_score, roc_curve\n\nfrom treeple.datasets import make_trunk_mixture_classification\n\nsns.set(color_codes=True, style=\"white\", context=\"talk\", font_scale=1.5)\nPALETTE = sns.color_palette(\"Set1\")\nsns.set_palette(PALETTE[1:5] + PALETTE[6:], n_colors=9)\nsns.set_style(\"white\", {\"axes.edgecolor\": \"#dddddd\"})\nwarnings.filterwarnings(\"ignore\")"
      ]
    },
    {
      "cell_type": "markdown",
      "metadata": {},
      "source": [
        "## True posterior estimation\n\nAs we know the true priors of each class, we can generate a sufficient\namount of samples to estimate the true posteriors and corresponding\nstatistics like *MI*, *pAUC*, and *S@98*.\n\n"
      ]
    },
    {
      "cell_type": "markdown",
      "metadata": {},
      "source": [
        "## Generate gaussian mixture simulations\n\n"
      ]
    },
    {
      "cell_type": "code",
      "execution_count": null,
      "metadata": {
        "collapsed": false
      },
      "outputs": [],
      "source": [
        "# set the simulation parameters and generate samples\nX, y = make_trunk_mixture_classification(\n    n_samples=10000,\n    n_dim=1,\n    n_informative=1,\n    mu_0=0,\n    mu_1=5,\n    mix=0.75,\n    seed=1,\n)\n\n\nfig, ax = plt.subplots(figsize=(6, 6))\nfig.tight_layout()\nax.tick_params(labelsize=15)\n\n# histogram plot the samples\nax.hist(X[:5000], bins=50, alpha=0.6, color=PALETTE[1], label=\"negative\")\nax.hist(X[5000:], bins=50, alpha=0.3, color=PALETTE[0], label=\"positive\")\nax.set_xlabel(\"Variable One\", fontsize=15)\nax.set_ylabel(\"Likelihood\", fontsize=15)\nplt.legend(frameon=False, fontsize=15)\nplt.show()"
      ]
    },
    {
      "cell_type": "markdown",
      "metadata": {},
      "source": [
        "## Calculate X priors with true pdfs\n\n\\begin{align}f_{X}(x) = f_{X  \\mid Y = 0}(x)\\mathbb{P}(Y = 0) + f_{X  \\mid Y = 1}(x)\\mathbb{P}(Y = 1)\\end{align}\n\n"
      ]
    },
    {
      "cell_type": "code",
      "execution_count": null,
      "metadata": {
        "collapsed": false
      },
      "outputs": [],
      "source": [
        "# calculate pdf for class zero\npdf_class0 = multivariate_normal.pdf(X, mean=0)\n\n# calculate pdf for each component of class one\npdf_class1_0 = multivariate_normal.pdf(X, mean=0)\npdf_class1_1 = multivariate_normal.pdf(X, mean=5)\n\n# combine the class one pdfs\npdf_class1 = 0.75 * pdf_class1_0 + 0.25 * pdf_class1_1\n\n\n# Y prior is 0.5 for balanced class\np_x = pdf_class0 * 0.5 + pdf_class1 * 0.5"
      ]
    },
    {
      "cell_type": "markdown",
      "metadata": {},
      "source": [
        "## Calculate true posteriors\n\n\\begin{align}\\mathbb{P}(Y  \\mid X = x) = \\frac{f_{X  \\mid Y}(x)\\mathbb{P}(Y )}{f_{X}(x)}\\end{align}\n\n"
      ]
    },
    {
      "cell_type": "code",
      "execution_count": null,
      "metadata": {
        "collapsed": false
      },
      "outputs": [],
      "source": [
        "pos_class0 = pdf_class0 * 0.5 / p_x\npos_class1 = pdf_class1 * 0.5 / p_x\n\npos = np.hstack((pos_class0.reshape(-1, 1), pos_class1.reshape(-1, 1)))"
      ]
    },
    {
      "cell_type": "markdown",
      "metadata": {},
      "source": [
        "## Generate true statistic estimates: S@98\n\n"
      ]
    },
    {
      "cell_type": "code",
      "execution_count": null,
      "metadata": {
        "collapsed": false
      },
      "outputs": [],
      "source": [
        "def Calculate_SA(y_true, y_pred_proba, max_fpr=0.02) -> float:\n    \"\"\"Calculate the sensitivity at a specific specificity\"\"\"\n    # check the shape of true labels\n    if y_true.squeeze().ndim != 1:\n        raise ValueError(f\"y_true must be 1d, not {y_true.shape}\")\n\n    # find the positive class and calculate fpr and tpr\n    if 0 in y_true or -1 in y_true:\n        fpr, tpr, thresholds = roc_curve(\n            y_true, y_pred_proba[:, 1], pos_label=1, drop_intermediate=False\n        )\n    else:\n        fpr, tpr, thresholds = roc_curve(\n            y_true, y_pred_proba[:, 1], pos_label=2, drop_intermediate=False\n        )\n    sa98 = max([tpr for (fpr, tpr) in zip(fpr, tpr) if fpr <= max_fpr])\n\n    fig, ax = plt.subplots(figsize=(6, 6))\n    fig.tight_layout()\n    ax.tick_params(labelsize=15)\n    ax.set_xlim([-0.005, 1.005])\n    ax.set_ylim([-0.005, 1.005])\n    ax.set_xlabel(\"False Positive Rate\", fontsize=15)\n    ax.set_ylabel(\"True Positive Rate\", fontsize=15)\n\n    ax.plot(fpr, tpr, label=\"ROC curve\", color=PALETTE[1])\n\n    spec = int((1 - max_fpr) * 100)\n    ax.axvline(\n        x=max_fpr,\n        color=PALETTE[0],\n        ymin=0,\n        ymax=sa98,\n        label=\"S@\" + str(spec) + \" = \" + str(round(sa98, 2)),\n        linestyle=\"--\",\n    )\n    ax.axhline(y=sa98, xmin=0, xmax=max_fpr, color=\"r\", linestyle=\"--\")\n    ax.legend(frameon=False, fontsize=15)\n\n    return sa98\n\n\nsa98 = Calculate_SA(y, pos, max_fpr=0.02)\nprint(\"S@98 =\", round(sa98, 2))"
      ]
    },
    {
      "cell_type": "markdown",
      "metadata": {},
      "source": [
        "## Generate true statistic estimates: MI\n\n"
      ]
    },
    {
      "cell_type": "code",
      "execution_count": null,
      "metadata": {
        "collapsed": false
      },
      "outputs": [],
      "source": [
        "def Calculate_MI(y_true, y_pred_proba):\n    # calculate the conditional entropy\n    H_YX = np.mean(entropy(y_pred_proba, base=np.exp(1), axis=1))\n\n    # empirical count of each class (n_classes)\n    _, counts = np.unique(y_true, return_counts=True)\n    # calculate the entropy of labels\n    H_Y = entropy(counts, base=np.exp(1))\n    return H_Y - H_YX\n\n\nmi = Calculate_MI(y, pos)\nprint(\"MI =\", round(mi, 2))"
      ]
    },
    {
      "cell_type": "markdown",
      "metadata": {},
      "source": [
        "## Generate true statistic estimates: pAUC@90\n\n"
      ]
    },
    {
      "cell_type": "code",
      "execution_count": null,
      "metadata": {
        "collapsed": false
      },
      "outputs": [],
      "source": [
        "def Calculate_pAUC(y_true, y_pred_proba, max_fpr=0.1) -> float:\n    # check the shape of true labels\n    if y_true.squeeze().ndim != 1:\n        raise ValueError(f\"y_true must be 1d, not {y_true.shape}\")\n\n    # find the positive class and calculate fpr and tpr\n    if 0 in y_true or -1 in y_true:\n        fpr, tpr, thresholds = roc_curve(\n            y_true, y_pred_proba[:, 1], pos_label=1, drop_intermediate=False\n        )\n    else:\n        fpr, tpr, thresholds = roc_curve(\n            y_true, y_pred_proba[:, 1], pos_label=2, drop_intermediate=False\n        )\n\n    fig, ax = plt.subplots(figsize=(6, 6))\n    fig.tight_layout()\n    ax.tick_params(labelsize=15)\n    ax.set_xlim([-0.005, 1.005])\n    ax.set_ylim([-0.005, 1.005])\n    ax.set_xlabel(\"False Positive Rate\", fontsize=15)\n    ax.set_ylabel(\"True Positive Rate\", fontsize=15)\n\n    ax.plot(fpr, tpr, label=\"ROC curve\", color=PALETTE[1])\n    # Calculate pAUC at the specific threshold\n    pAUC = roc_auc_score(y_true, y_pred_proba[:, 1], max_fpr=max_fpr)\n\n    pos = np.where(fpr == max_fpr)[0][-1]\n    ax.fill_between(\n        fpr[:pos],\n        tpr[:pos],\n        color=PALETTE[0],\n        alpha=0.6,\n        label=\"pAUC@90 = \" + str(round(pAUC, 2)),\n        linestyle=\"--\",\n    )\n    ax.legend(frameon=False, fontsize=15)\n    return pAUC\n\n\npAUC = Calculate_pAUC(y, pos, max_fpr=0.1)\nprint(\"pAUC@90 =\", round(pAUC, 2))"
      ]
    }
  ],
  "metadata": {
    "kernelspec": {
      "display_name": "Python 3",
      "language": "python",
      "name": "python3"
    },
    "language_info": {
      "codemirror_mode": {
        "name": "ipython",
        "version": 3
      },
      "file_extension": ".py",
      "mimetype": "text/x-python",
      "name": "python",
      "nbconvert_exporter": "python",
      "pygments_lexer": "ipython3",
      "version": "3.9.20"
    }
  },
  "nbformat": 4,
  "nbformat_minor": 0
}