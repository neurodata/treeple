{
  "cells": [
    {
      "cell_type": "markdown",
      "metadata": {},
      "source": [
        "\n# Plot the decision surface of decision trees trained on the iris dataset\n\nPlot the decision surface of a decision tree and oblique decision tree\ntrained on pairs of features of the iris dataset.\n\nSee `decision tree <tree>` for more information on the estimators.\n\nFor each pair of iris features, the decision tree learns axis-aligned decision\nboundaries made of combinations of simple thresholding rules inferred from\nthe training samples. The oblique decision tree learns oblique decision boundaries\nmade from linear combinations of the features in the training samples and then\nthe same thresholding rule as regular decision trees.\n\nWe also show the tree structure of a model built on all of the features.\n"
      ]
    },
    {
      "cell_type": "code",
      "execution_count": null,
      "metadata": {
        "collapsed": false
      },
      "outputs": [],
      "source": [
        "import matplotlib.pyplot as plt\nimport numpy as np\nfrom sklearn.datasets import load_iris\nfrom sklearn.inspection import DecisionBoundaryDisplay\n\nfrom treeple._lib.sklearn.tree import DecisionTreeClassifier, plot_tree\nfrom treeple.tree import ObliqueDecisionTreeClassifier"
      ]
    },
    {
      "cell_type": "markdown",
      "metadata": {},
      "source": [
        "First load the copy of the Iris dataset shipped with scikit-learn:\n\n"
      ]
    },
    {
      "cell_type": "code",
      "execution_count": null,
      "metadata": {
        "collapsed": false
      },
      "outputs": [],
      "source": [
        "iris = load_iris()\n\n# Parameters\nn_classes = 3\nplot_colors = \"ryb\"\nplot_step = 0.02\n\nclf_labels = [\"Axis-aligned\", \"Oblique\"]\nrandom_state = 123456\n\nclfs = [\n    DecisionTreeClassifier(random_state=random_state),\n    ObliqueDecisionTreeClassifier(random_state=random_state),\n]\n\nfor clf, clf_label in zip(clfs, clf_labels):\n    fig, axes = plt.subplots(2, 3)\n    axes = axes.flatten()\n\n    for pairidx, pair in enumerate([[0, 1], [0, 2], [0, 3], [1, 2], [1, 3], [2, 3]]):\n        # We only take the two corresponding features\n        X = iris.data[:, pair]\n        y = iris.target\n\n        # Train\n        clf.fit(X, y)\n\n        # Plot the decision boundary\n        ax = axes[pairidx]\n        plt.tight_layout(h_pad=0.5, w_pad=0.5, pad=2.5)\n        DecisionBoundaryDisplay.from_estimator(\n            clf,\n            X,\n            cmap=plt.cm.RdYlBu,\n            response_method=\"predict\",\n            ax=ax,\n            xlabel=iris.feature_names[pair[0]],\n            ylabel=iris.feature_names[pair[1]],\n        )\n\n        # Plot the training points\n        for i, color in zip(range(n_classes), plot_colors):\n            idx = np.where(y == i)\n            ax.scatter(\n                X[idx, 0],\n                X[idx, 1],\n                c=color,\n                label=iris.target_names[i],\n                cmap=plt.cm.RdYlBu,\n                edgecolor=\"black\",\n                s=15,\n            )\n\n    fig.suptitle(f\"Decision surface of {clf_label} decision trees trained on pairs of features\")\n    plt.legend(loc=\"lower right\", borderpad=0, handletextpad=0)\n    _ = plt.axis(\"tight\")\n    plt.show()"
      ]
    },
    {
      "cell_type": "markdown",
      "metadata": {},
      "source": [
        "Display the structure of a single decision tree trained on all the features\ntogether.\n\n"
      ]
    },
    {
      "cell_type": "code",
      "execution_count": null,
      "metadata": {
        "collapsed": false
      },
      "outputs": [],
      "source": [
        "for clf, clf_label in zip(clfs, clf_labels):\n    plt.figure()\n    clf.fit(iris.data, iris.target)\n    plot_tree(clf, filled=True)\n    plt.title(f\"{clf_label} decision tree trained on all the iris features\")\n    plt.show()"
      ]
    }
  ],
  "metadata": {
    "kernelspec": {
      "display_name": "Python 3",
      "language": "python",
      "name": "python3"
    },
    "language_info": {
      "codemirror_mode": {
        "name": "ipython",
        "version": 3
      },
      "file_extension": ".py",
      "mimetype": "text/x-python",
      "name": "python",
      "nbconvert_exporter": "python",
      "pygments_lexer": "ipython3",
      "version": "3.9.20"
    }
  },
  "nbformat": 4,
  "nbformat_minor": 0
}