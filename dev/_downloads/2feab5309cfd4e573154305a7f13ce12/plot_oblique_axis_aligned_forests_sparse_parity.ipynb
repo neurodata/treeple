{
  "cells": [
    {
      "cell_type": "markdown",
      "metadata": {},
      "source": [
        "\n# Plot oblique forest and axis-aligned random forest predictions on sparse parity simulation\nA performance comparison between oblique forest and standard axis-\naligned random forest using sparse parity simulation dataset.\nSparse parity is a variation of the noisy parity problem,\nwhich itself is a multivariate generalization of the noisy XOR problem.\nThis is a binary classification task in high dimensions. The simulation\nwill generate uniformly distributed `n_samples` number of sample points\nin the range of -1 and +1 with `p` number of features. `p*` is a\nparameter used to limit features that carry information about the class.\nThe informative binary label is then defined as 1 if there are odd number\nof the sum of data `X` across first `p*` features that are greater than 0,\notherwise the label is defined as 0. The simulation is further detailed\nin this [publication](https://epubs.siam.org/doi/epdf/10.1137/1.9781611974973.56).\n"
      ]
    },
    {
      "cell_type": "code",
      "execution_count": null,
      "metadata": {
        "collapsed": false
      },
      "outputs": [],
      "source": [
        "from datetime import datetime\n\nimport matplotlib.pyplot as plt\nimport numpy as np\nimport pandas as pd\nimport seaborn as sns\nfrom sklearn.ensemble import RandomForestClassifier\nfrom sklearn.model_selection import RepeatedKFold, cross_validate\n\nfrom treeple import ObliqueRandomForestClassifier\n\nrandom_state = 123456\nt0 = datetime.now()\n\n\ndef sparse_parity(n_samples, p=20, p_star=3, random_seed=None, **kwargs):\n    if random_seed:\n        np.random.seed(random_seed)\n\n    X = np.random.uniform(-1, 1, (n_samples, p))\n    y = np.zeros(n_samples)\n\n    for i in range(0, n_samples):\n        y[i] = sum(X[i, :p_star] > 0) % 2\n\n    return X, y\n\n\ndef get_scores(X, y, n_cv=5, n_repeats=1, random_state=1, kwargs=None):\n    clfs = [\n        RandomForestClassifier(**kwargs[0], random_state=random_state),\n        ObliqueRandomForestClassifier(**kwargs[1], random_state=random_state),\n    ]\n\n    tmp = []\n\n    for i, clf in enumerate(clfs):\n        cv = RepeatedKFold(n_splits=n_cv, n_repeats=n_repeats, random_state=random_state)\n        test_score = cross_validate(estimator=clf, X=X, y=y, cv=cv, scoring=\"accuracy\")\n\n        tmp.append([[\"RF\", \"OF\"][i], test_score[\"test_score\"], test_score[\"test_score\"].mean()])\n\n    df = pd.DataFrame(tmp, columns=[\"model\", \"score\", \"mean\"])\n    df = df.explode(\"score\")\n    df[\"score\"] = df[\"score\"].astype(float)\n    df.reset_index(inplace=True, drop=True)\n\n    return df\n\n\n# Grid searched hyper-parameters\nparams = [\n    {\"max_features\": None, \"n_estimators\": 100, \"max_depth\": None},\n    {\"max_features\": 40, \"n_estimators\": 100, \"max_depth\": 20},\n]\n\nX, y = sparse_parity(n_samples=1000, random_seed=random_state)\n\ndf = get_scores(X=X, y=y, n_cv=3, n_repeats=1, random_state=random_state, kwargs=params)\nt_d = (datetime.now() - t0).seconds\nprint(f\"It took {t_d} seconds to run the script\")\n\n# Draw a comparison plot\nfig, ax = plt.subplots(1, 1, figsize=(6, 6))\n\nsns.stripplot(data=df, x=\"model\", y=\"score\", ax=ax, dodge=True)\nsns.boxplot(data=df, x=\"model\", y=\"score\", ax=ax, color=\"white\")\nax.set_title(\"Sparse Parity\")\n\nrf = df.query('model==\"RF\"')[\"mean\"].iloc[0]\nrff = f\"RF (Mean Test Score: {round(rf,3)})\"\n\nof = df.query('model==\"OF\"')[\"mean\"].iloc[0]\noff = f\"OF (Mean Test Score: {round(of,3)})\"\n\nax.legend([rff, off], loc=4)\n\nplt.savefig(f\"plot_sim_{t_d}s.jpg\")\nplt.show()"
      ]
    }
  ],
  "metadata": {
    "kernelspec": {
      "display_name": "Python 3",
      "language": "python",
      "name": "python3"
    },
    "language_info": {
      "codemirror_mode": {
        "name": "ipython",
        "version": 3
      },
      "file_extension": ".py",
      "mimetype": "text/x-python",
      "name": "python",
      "nbconvert_exporter": "python",
      "pygments_lexer": "ipython3",
      "version": "3.9.21"
    }
  },
  "nbformat": 4,
  "nbformat_minor": 0
}