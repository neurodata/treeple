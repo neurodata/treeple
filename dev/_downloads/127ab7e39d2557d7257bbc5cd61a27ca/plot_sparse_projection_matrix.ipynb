{
  "cells": [
    {
      "cell_type": "markdown",
      "metadata": {},
      "source": [
        "\n# Plot the sparse projection matrices of an oblique tree\n\nThis example shows how projection matrices are generated for an oblique tree,\nspecifically the :class:`treeple.tree.ObliqueDecisionTreeClassifier`.\n\nThe projection matrix here samples a subset of features from the input ``X``\ncontrolled by the parameter ``feature_combinations``. The projection matrix\nis sparse when ``feature_combinations`` is small, meaning that it is mostly zero.\nThe non-zero elements of the projection matrix are the features that are sampled\nfrom the input ``X`` and linearly combined to form candidate split dimensions.\n\nFor details on how to use the hyperparameters related to the patches, see\n:class:`treeple.tree.ObliqueDecisionTreeClassifier`.\n"
      ]
    },
    {
      "cell_type": "code",
      "execution_count": null,
      "metadata": {
        "collapsed": false
      },
      "outputs": [],
      "source": [
        "import matplotlib.pyplot as plt\n\n# import modules\n# .. note:: We use a private Cython module here to demonstrate what the patches\n#           look like. This is not part of the public API. The Cython module used\n#           is just a Python wrapper for the underlying Cython code and is not the\n#           same as the Cython splitter used in the actual implementation.\n#           To use the actual splitter, one should use the public API for the\n#           relevant tree/forests class.\nimport numpy as np\nfrom matplotlib.cm import ScalarMappable\nfrom matplotlib.colors import ListedColormap\n\nfrom treeple._lib.sklearn.tree._criterion import Gini\nfrom treeple.tree._oblique_splitter import BestObliqueSplitterTester"
      ]
    },
    {
      "cell_type": "markdown",
      "metadata": {},
      "source": [
        "## Initialize patch splitter\nThe patch splitter is used to generate patches for the projection matrices.\nWe will initialize the patch with some dummy values for the sake of this\nexample.\n\n"
      ]
    },
    {
      "cell_type": "code",
      "execution_count": null,
      "metadata": {
        "collapsed": false
      },
      "outputs": [],
      "source": [
        "criterion = Gini(1, np.array((0, 1)))\nmax_features = 6\nmin_samples_leaf = 1\nmin_weight_leaf = 0.0\nrandom_state = np.random.RandomState(1)\n\nfeature_combinations = 1.5\nmonotonic_cst = None\nmissing_value_feature_mask = None\n\nn_features = 10\nn_samples = 5\n\n# initialize some dummy data\nX = np.ones((n_samples, n_features), dtype=np.float32)\ny = np.array([0, 0, 0, 1, 1]).reshape(-1, 1).astype(np.float64)\nsample_weight = np.ones(5)\n\nprint(\"The shape of our dataset is: \", X.shape, y.shape, sample_weight.shape)"
      ]
    },
    {
      "cell_type": "markdown",
      "metadata": {},
      "source": [
        "## Initialize the splitter\nThe splitter is initialized in the decision-tree classes, but we expose\na testing interface here to demonstrate how the projection matrices are\nsampled internally.\n\n<div class=\"alert alert-danger\"><h4>Warning</h4><p>Do not use this interface directly in practice.</p></div>\n\n"
      ]
    },
    {
      "cell_type": "code",
      "execution_count": null,
      "metadata": {
        "collapsed": false
      },
      "outputs": [],
      "source": [
        "splitter = BestObliqueSplitterTester(\n    criterion,\n    max_features,\n    min_samples_leaf,\n    min_weight_leaf,\n    random_state,\n    monotonic_cst,\n    feature_combinations,\n)\nsplitter.init_test(X, y, sample_weight, missing_value_feature_mask)"
      ]
    },
    {
      "cell_type": "markdown",
      "metadata": {},
      "source": [
        "## Generate projection matrix\nSample the projection matrix that consists of randomly sampled features\nwith an average of ``feature_combinations * max_features`` non-zeros\nin the ``(max_features, n_features)`` matrix.\n\n"
      ]
    },
    {
      "cell_type": "code",
      "execution_count": null,
      "metadata": {
        "collapsed": false
      },
      "outputs": [],
      "source": [
        "projection_matrix = splitter.sample_projection_matrix_py()\nprint(projection_matrix.shape)\n\n# Visualize the projection matrix\ncmap = ListedColormap([\"orange\", \"white\", \"green\"])\n\n# Create a heatmap to visualize the indices\nfig, ax = plt.subplots(figsize=(6, 6))\n\nax.imshow(projection_matrix, cmap=cmap, aspect=n_features / max_features, interpolation=\"none\")\n\nax.set(title=\"Sampled Projection Matrix\", xlabel=\"Feature Index\", ylabel=\"Projection Vector Index\")\nax.set_xticks(np.arange(n_features))\nax.set_yticks(np.arange(max_features))\nax.set_yticklabels(np.arange(max_features, dtype=int) + 1)\nax.set_xticklabels(np.arange(n_features, dtype=int) + 1)\n\n# Create a mappable object\nsm = ScalarMappable(cmap=cmap)\nsm.set_array([])  # You can set an empty array or values here\n\n# Create a color bar with labels for each feature set\ncolorbar = fig.colorbar(sm, ax=ax, ticks=[0, 0.5, 1], format=\"%d\")\ncolorbar.set_label(\"Projection Weight\")\ncolorbar.ax.set_yticklabels([\"-1\", \"0\", \"1\"])\n\nplt.show()"
      ]
    },
    {
      "cell_type": "markdown",
      "metadata": {},
      "source": [
        "## Discussion\nAs we can see, the (sparse) oblique splitter samples random features to\nlinearly combine to form candidate split dimensions.\n\nIn contrast, the normal splitter in :class:`sklearn.tree.DecisionTreeClassifier` samples\nrandomly across all ``n_features`` features.\n\nFor an example of using oblique trees/forests in practice on data, see the following\nexamples:\n\n- `sphx_glr_auto_examples_sparse_oblique_trees_plot_oblique_forests_iris.py`\n- `sphx_glr_auto_examples_sparse_oblique_trees_plot_oblique_random_forest.py`\n\n"
      ]
    }
  ],
  "metadata": {
    "kernelspec": {
      "display_name": "Python 3",
      "language": "python",
      "name": "python3"
    },
    "language_info": {
      "codemirror_mode": {
        "name": "ipython",
        "version": 3
      },
      "file_extension": ".py",
      "mimetype": "text/x-python",
      "name": "python",
      "nbconvert_exporter": "python",
      "pygments_lexer": "ipython3",
      "version": "3.9.21"
    }
  },
  "nbformat": 4,
  "nbformat_minor": 0
}