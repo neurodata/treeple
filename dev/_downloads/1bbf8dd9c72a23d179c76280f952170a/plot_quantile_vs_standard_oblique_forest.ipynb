{
  "cells": [
    {
      "cell_type": "markdown",
      "metadata": {},
      "source": [
        "\n# Quantile regression with oblique regression forest\n\nAn example to generate quantile predictions using an oblique random forest\ninstance on a synthetic, right-skewed dataset.\n\nThis example was heavily inspired by [quantile-forest](https://github.com/zillow/quantile-forest)\npackage. See their package [here](https://zillow.github.io/quantile-forest/).\n"
      ]
    },
    {
      "cell_type": "code",
      "execution_count": null,
      "metadata": {
        "collapsed": false
      },
      "outputs": [],
      "source": [
        "from collections import defaultdict\n\nimport matplotlib.pyplot as plt\nimport numpy as np\nimport scipy as sp\nfrom sklearn.model_selection import train_test_split\nfrom sklearn.utils.validation import check_random_state\n\nfrom treeple.ensemble import ObliqueRandomForestRegressor\n\nrng = check_random_state(0)"
      ]
    },
    {
      "cell_type": "markdown",
      "metadata": {},
      "source": [
        "## Generate the data\nWe use a synthetic dataset with 2 features and 5000 samples. The target is\ngenerated from a skewed normal distribution. (The mean of the distribution\nis to the right of the median.)\n\n"
      ]
    },
    {
      "cell_type": "code",
      "execution_count": null,
      "metadata": {
        "collapsed": false
      },
      "outputs": [],
      "source": [
        "n_samples = 5000\na, loc, scale = 5, -1, 1\nskewnorm_rv = sp.stats.skewnorm(a, loc, scale)\nskewnorm_rv.random_state = rng\ny = skewnorm_rv.rvs(n_samples)\nX = rng.randn(n_samples, 2) * y.reshape(-1, 1)\n\nX_train, X_test, y_train, y_test = train_test_split(X, y, test_size=0.5, random_state=0)\n\nregr_orf = ObliqueRandomForestRegressor(n_estimators=10, random_state=0)\n\nregr_orf.fit(X_train, y_train)\n\ny_pred_orf = regr_orf.predict(X_test)"
      ]
    },
    {
      "cell_type": "markdown",
      "metadata": {},
      "source": [
        "## Generate Quantile Predictions\nThe idea is for each prediction, the training samples that fell into the same leaf nodes\nare collected then used to generate the quantile statistics for the desired prediction.\n\n"
      ]
    },
    {
      "cell_type": "code",
      "execution_count": null,
      "metadata": {
        "collapsed": false
      },
      "outputs": [],
      "source": [
        "# Get the leaf-nodes the training samples fall into\nleaf_ids = regr_orf.apply(X_train)\n# create a list of dictionary that maps node to samples that fell into it\n# for each tree\nnode_to_indices = []\nfor tree in range(leaf_ids.shape[1]):\n    d = defaultdict(list)\n    for id, leaf in enumerate(leaf_ids[:, tree]):\n        d[leaf].append(id)\n    node_to_indices.append(d)\n# drop the X_test to the trained tree and\n# get the indices of leaf nodes that fall into it\nleaf_ids_test = regr_orf.apply(X_test)\n# for each samples, collect the indices of the samples that fell into\n# the same leaf node for each tree\ny_pred_quantile = []\nfor sample in range(leaf_ids_test.shape[0]):\n    li = [\n        node_to_indices[tree][leaf_ids_test[sample][tree]] for tree in range(leaf_ids_test.shape[1])\n    ]\n    # merge the list of indices into one\n    idx = [item for sublist in li for item in sublist]\n    # get the y_train for each corresponding id\n    y_pred_quantile.append(y_train[idx])\n# get the quatile preditions for each predicted sample\ny_pred_quantile = [np.quantile(y_pred_quantile[i], 0.5) for i in range(len(y_pred_quantile))]"
      ]
    },
    {
      "cell_type": "markdown",
      "metadata": {},
      "source": [
        "## Plot the results\nThe plot shows the distribution of the actual target values and the predicted median\n(i.e. 0.5 quantile), and the mean prediction by the regular random forest regressor.\nIn this skewed dataset, the median prediction using the quantile method works better at\npredicting the off-centered target distribution than the regular mean prediction.\n\n"
      ]
    },
    {
      "cell_type": "code",
      "execution_count": null,
      "metadata": {
        "collapsed": false
      },
      "outputs": [],
      "source": [
        "colors = [\"#c0c0c0\", \"#a6e5ff\", \"#e7a4f5\"]\nnames = [\"Actual\", \"QRF (Median)\", \"ORF (Mean)\"]\nplt.hist([y_test, y_pred_quantile, y_pred_orf], bins=50, color=colors, label=names)\nplt.xlabel(\"Actual and Predicted Target Values\")\nplt.ylabel(\"Counts\")\nplt.legend()\nplt.show()"
      ]
    }
  ],
  "metadata": {
    "kernelspec": {
      "display_name": "Python 3",
      "language": "python",
      "name": "python3"
    },
    "language_info": {
      "codemirror_mode": {
        "name": "ipython",
        "version": 3
      },
      "file_extension": ".py",
      "mimetype": "text/x-python",
      "name": "python",
      "nbconvert_exporter": "python",
      "pygments_lexer": "ipython3",
      "version": "3.9.20"
    }
  },
  "nbformat": 4,
  "nbformat_minor": 0
}