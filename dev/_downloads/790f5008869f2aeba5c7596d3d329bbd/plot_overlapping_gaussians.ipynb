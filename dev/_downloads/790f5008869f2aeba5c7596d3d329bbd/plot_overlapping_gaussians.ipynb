{
  "cells": [
    {
      "cell_type": "markdown",
      "metadata": {},
      "source": [
        "\n\n# Plot honest forest calibrations on overlapping gaussian simulations\n\nCompare the prediction results of honest forests and random forests with\nvarious methods of calibrations. Honest trees are a method for achieving\nimproved calibration in random forests. See `User Guide <honest_trees>`\nfor more information.\n\nOther methods for achieving calibrated random forests are also included:\n\n- Isotonic regression (``IRF``)\n- Sigmoid calibration (``SigRF``)\n- regular Random Forests without calibration (``RF``)\n\nThe plot shows the calibration curves of the different methods on a simulated\ndataset with two overlapping gaussian clusters. The red line shows the\ncalibration curve of the honest forest, which is closest to the ideal. The figure\nis reproduced from :footcite:`perry2021random`.\n\n## References\n.. footbibliography::\n"
      ]
    },
    {
      "cell_type": "markdown",
      "metadata": {},
      "source": [
        "Import the necessary modules and libraries\n\n"
      ]
    },
    {
      "cell_type": "code",
      "execution_count": null,
      "metadata": {
        "collapsed": false
      },
      "outputs": [],
      "source": [
        "import matplotlib.pyplot as plt\nimport numpy as np\nfrom matplotlib import cm\nfrom sklearn import datasets\nfrom sklearn.calibration import CalibratedClassifierCV\nfrom sklearn.ensemble import RandomForestClassifier\nfrom sklearn.model_selection import train_test_split\n\nfrom treeple.ensemble import HonestForestClassifier"
      ]
    },
    {
      "cell_type": "markdown",
      "metadata": {},
      "source": [
        "Define the classifiers and generate the data\n\n"
      ]
    },
    {
      "cell_type": "code",
      "execution_count": null,
      "metadata": {
        "collapsed": false
      },
      "outputs": [],
      "source": [
        "color_dict = {\n    \"HonestRF\": \"#F41711\",\n    \"RF\": \"#1b9e77\",\n    \"SigRF\": \"#377eb8\",\n    \"IRF\": \"#fdae61\",\n}\n\nn_estimators = 100\nn_jobs = -2\nclf_cv = 5\nmax_features = 1.0\nreps = 5\n\nclfs = [\n    (\n        \"HonestRF\",\n        HonestForestClassifier(\n            n_estimators=n_estimators,\n            max_features=max_features,\n            n_jobs=n_jobs,\n            honest_fraction=0.5,\n        ),\n    ),\n    (\n        \"IRF\",\n        CalibratedClassifierCV(\n            estimator=RandomForestClassifier(\n                n_estimators=n_estimators // clf_cv,\n                max_features=max_features,\n                n_jobs=n_jobs,\n            ),\n            method=\"isotonic\",\n            cv=clf_cv,\n        ),\n    ),\n    (\n        \"SigRF\",\n        CalibratedClassifierCV(\n            estimator=RandomForestClassifier(\n                n_estimators=n_estimators // clf_cv,\n                max_features=max_features,\n                n_jobs=n_jobs,\n            ),\n            method=\"sigmoid\",\n            cv=clf_cv,\n        ),\n    ),\n    (\n        \"RF\",\n        RandomForestClassifier(n_estimators=n_estimators, n_jobs=n_jobs, max_features=max_features),\n    ),\n]\n\n\ndef likelihood(X):\n    lik1 = np.prod(np.exp(-0.5 * (X) ** 2), axis=1) + np.prod(\n        np.exp(-0.5 * (X - np.asarray([5, 5])) ** 2), axis=1\n    )\n    lik0 = np.prod(np.exp(-0.5 * (X) ** 2), axis=1) + np.prod(\n        np.exp(-0.5 * (X - np.asarray([-5, -5])) ** 2), axis=1\n    )\n    return lik1 / (lik1 + lik0)\n\n\nn_samples = 60000\nn_bins = 3  # use 3 bins for calibration_curve as we have 3 clusters here\n\n# Generate 3 blobs with 2 classes where the second blob contains\n# half positive samples and half negative samples. Probability in this\n# blob is therefore 0.5.\ncenters = [(-5, -5), (0, 0), (5, 5)]\nX, y = datasets.make_blobs(n_samples=n_samples, centers=centers, shuffle=False, random_state=42)\n\ny[: n_samples // 2] = 0\ny[n_samples // 2 :] = 1\nsample_weight = np.random.RandomState(42).rand(y.shape[0])\n\n# split train, test for calibration\nX_train, X_test, y_train, y_test, sw_train, sw_test = train_test_split(\n    X, y, sample_weight, test_size=0.9, random_state=42\n)\n\nclass_one_probs = {}\nfor name, clf in clfs:\n    clf = clf.fit(X_train, y_train)\n    class_one_probs[name] = clf.predict_proba(X_test)[:, 1]"
      ]
    },
    {
      "cell_type": "markdown",
      "metadata": {},
      "source": [
        "Plot the data and the predicted probabilities\n\n"
      ]
    },
    {
      "cell_type": "code",
      "execution_count": null,
      "metadata": {
        "collapsed": false
      },
      "outputs": [],
      "source": [
        "fig, axes = plt.subplots(1, 2, figsize=(10, 3))\ny_unique = np.unique(y)\ncolors = cm.rainbow(np.linspace(0.0, 1.0, y_unique.size))\n\nax = axes[0]\nfor this_y, color in zip(y_unique, colors):\n    this_X = X_train[y_train == this_y]\n    this_sw = sw_train[y_train == this_y]\n    ax.scatter(\n        this_X[:, 0],\n        this_X[:, 1],\n        s=this_sw * 50,\n        c=color[np.newaxis, :],\n        alpha=0.5,\n        edgecolor=\"k\",\n        label=\"Class %s\" % this_y,\n    )\nax.legend(loc=\"best\")\nax.set_xticks([])\nax.set_yticks([])\n\nax = axes[1]\nfor clf_name, probs in class_one_probs.items():\n    order = np.lexsort((probs,))\n    ax.plot(\n        np.linspace(0, y_test.size, 51)[1::2],\n        probs[order].reshape(25, -1).mean(1),\n        c=color_dict[clf_name],\n        label=clf_name,\n    )\nX_test_probs = likelihood(X_test)\norder = np.lexsort((X_test_probs,))\nax.plot(\n    np.linspace(0, y_test.size, 51)[1::2],\n    X_test_probs[order].reshape(25, -1).mean(1),\n    \"k\",\n    linewidth=2,\n    ls=\"--\",\n    label=r\"Truth\",\n)\n\nax.set_ylim([-0.05, 1.05])\nax.set_xlabel(\"Instances sorted by true P(y=1|x)\")\nax.set_ylabel(\"P(y=1|x)\")\nax.legend(loc=\"upper left\")\nplt.tight_layout()\nplt.savefig(\"./overlapping_gaussians.png\")\n\n# Discussion\n# ----------\n# The honest forest and IRF are closest to the truth, while the other methods are\n# not as well calibrated. The honest forest is also closer to the ideal calibration\n# curve, compared to RF which is shown below."
      ]
    }
  ],
  "metadata": {
    "kernelspec": {
      "display_name": "Python 3",
      "language": "python",
      "name": "python3"
    },
    "language_info": {
      "codemirror_mode": {
        "name": "ipython",
        "version": 3
      },
      "file_extension": ".py",
      "mimetype": "text/x-python",
      "name": "python",
      "nbconvert_exporter": "python",
      "pygments_lexer": "ipython3",
      "version": "3.9.21"
    }
  },
  "nbformat": 4,
  "nbformat_minor": 0
}