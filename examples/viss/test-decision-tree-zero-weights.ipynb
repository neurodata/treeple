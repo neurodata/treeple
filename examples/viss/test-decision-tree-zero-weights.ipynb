{
 "cells": [
  {
   "cell_type": "code",
   "execution_count": null,
   "id": "224cc887-64de-49da-a04b-7d478e1fa0f7",
   "metadata": {},
   "outputs": [],
   "source": [
    "# The Platonic Ideal: Verify _empirically_ that\n",
    "# - train, test, oob mutually disjunct\n",
    "# - train U test U oob = entire sample\n",
    "# - all oob observations get a leaf assignment\n",
    "# - all observations within leaf cell bounds\n",
    "# - any way to verify optimal splits subject to constraints?\n",
    "#\n",
    "# The Capitulation to Reality:\n",
    "# quite a bit of shenanigans to work around the fact that the base\n",
    "# DecisionTreeClassifier does not retain training indices in the nodes,\n",
    "# and therefore node membership by index cannot be verified post hoc\n",
    "#\n",
    "# instead we settle for the following procedure\n",
    "# - eliminate randomness\n",
    "# - train on untampered data to identify purported honest, structure, and oob\n",
    "#   sample indices\n",
    "# - shuffle y values among honest samples. if y altered y values are considered\n",
    "#   (thereby violating honesty), the splits should change\n",
    "# - train again from scratch on data with altered honest set\n",
    "# - verify that splits remain the same\n",
    "# - we only test unstratified sampling here so that we can shuffle the honest y values\n",
    "# - we test stratified sampling at the forest level"
   ]
  },
  {
   "cell_type": "code",
   "execution_count": 5,
   "id": "384dbe6e-3300-46c5-bfae-4f86c865b3df",
   "metadata": {},
   "outputs": [
    {
     "name": "stdout",
     "output_type": "stream",
     "text": [
      "Done.\n"
     ]
    }
   ],
   "source": [
    "import numpy as np\n",
    "\n",
    "from treeple.datasets import make_trunk_classification\n",
    "\n",
    "from sklearn.tree import DecisionTreeClassifier\n",
    "\n",
    "\n",
    "N_ITER = 100\n",
    "SAMPLE_SIZE = 256\n",
    "RANDOM_STATE = 1\n",
    "\n",
    "X, y = make_trunk_classification(\n",
    "    n_samples=SAMPLE_SIZE,\n",
    "    n_dim=1,\n",
    "    n_informative=1,\n",
    "    seed=0,\n",
    ")\n",
    "X_t = np.concatenate((\n",
    "    X[: SAMPLE_SIZE // 2],\n",
    "    X[SAMPLE_SIZE // 2 :]\n",
    "))\n",
    "y_t = np.concatenate((np.zeros(SAMPLE_SIZE // 2), np.ones(SAMPLE_SIZE // 2)))\n",
    "all_indices = [i for i in range(SAMPLE_SIZE)]\n",
    "structure_indices = [i for i in range(SAMPLE_SIZE) if i % 2 == 0]\n",
    "honest_indices = np.setdiff1d(all_indices, structure_indices)\n",
    "w = np.ones(SAMPLE_SIZE)\n",
    "w[honest_indices] = 0\n",
    "\n",
    "tree = DecisionTreeClassifier(random_state=RANDOM_STATE)\n",
    "y_perm = y_t.ravel().copy()\n",
    "tree.fit(X_t, y_perm, sample_weight=w)\n",
    "old_threshold = tree.tree_.threshold.copy()\n",
    "old_y = y_perm.copy()\n",
    "\n",
    "for it in range(N_ITER):\n",
    "    tree = DecisionTreeClassifier(random_state=RANDOM_STATE)\n",
    "    y_perm = y_t.ravel().copy()\n",
    "    honest_shuffled = honest_indices.copy()\n",
    "    np.random.shuffle(honest_shuffled)\n",
    "\n",
    "    for i in range(len(honest_indices)):\n",
    "        y_perm[honest_indices[i]] = y_t[honest_shuffled[i]]\n",
    "\n",
    "    # print(f\"y_perm = {y_perm}\")\n",
    "    assert(not np.array_equal(y_t, y_perm))\n",
    "    assert(not np.array_equal(old_y, y_perm))\n",
    "\n",
    "    tree.fit(X_t, y_perm, sample_weight=w)\n",
    "    assert(np.array_equal(old_threshold, tree.tree_.threshold))\n",
    "    old_threshold = tree.tree_.threshold.copy()\n",
    "\n",
    "print(\"Done.\")"
   ]
  }
 ],
 "metadata": {
  "kernelspec": {
   "display_name": "Python 3 (ipykernel)",
   "language": "python",
   "name": "python3"
  },
  "language_info": {
   "codemirror_mode": {
    "name": "ipython",
    "version": 3
   },
   "file_extension": ".py",
   "mimetype": "text/x-python",
   "name": "python",
   "nbconvert_exporter": "python",
   "pygments_lexer": "ipython3",
   "version": "3.12.3"
  }
 },
 "nbformat": 4,
 "nbformat_minor": 5
}
